{
 "cells": [
  {
   "cell_type": "code",
   "execution_count": 1,
   "metadata": {},
   "outputs": [
    {
     "name": "stderr",
     "output_type": "stream",
     "text": [
      "C:\\Users\\gsuma\\AppData\\Roaming\\Python\\Python311\\site-packages\\huggingface_hub\\file_download.py:1150: FutureWarning: `resume_download` is deprecated and will be removed in version 1.0.0. Downloads always resume when possible. If you want to force a new download, use `force_download=True`.\n",
      "  warnings.warn(\n"
     ]
    },
    {
     "data": {
      "application/vnd.jupyter.widget-view+json": {
       "model_id": "2d7a7c0b983e4324ba85639b9708deba",
       "version_major": 2,
       "version_minor": 0
      },
      "text/plain": [
       "preprocessor_config.json:   0%|          | 0.00/352 [00:00<?, ?B/s]"
      ]
     },
     "metadata": {},
     "output_type": "display_data"
    },
    {
     "data": {
      "application/vnd.jupyter.widget-view+json": {
       "model_id": "53b1405312884d9298adf85dc58c8d78",
       "version_major": 2,
       "version_minor": 0
      },
      "text/plain": [
       "config.json:   0%|          | 0.00/960 [00:00<?, ?B/s]"
      ]
     },
     "metadata": {},
     "output_type": "display_data"
    },
    {
     "name": "stderr",
     "output_type": "stream",
     "text": [
      "C:\\Users\\gsuma\\AppData\\Roaming\\Python\\Python311\\site-packages\\huggingface_hub\\file_download.py:1150: FutureWarning: `resume_download` is deprecated and will be removed in version 1.0.0. Downloads always resume when possible. If you want to force a new download, use `force_download=True`.\n",
      "  warnings.warn(\n"
     ]
    },
    {
     "data": {
      "application/vnd.jupyter.widget-view+json": {
       "model_id": "a6981fc2311f4f418b0bb3d4401e4254",
       "version_major": 2,
       "version_minor": 0
      },
      "text/plain": [
       "pytorch_model.bin:   0%|          | 0.00/786M [00:00<?, ?B/s]"
      ]
     },
     "metadata": {},
     "output_type": "display_data"
    }
   ],
   "source": [
    "from transformers import AutoImageProcessor, AutoModelForImageClassification\n",
    "\n",
    "processor = AutoImageProcessor.from_pretrained(\"ALM-AHME/convnextv2-large-1k-224-finetuned-LungCancer-Classification-LC25000-AH-60-20-20\")\n",
    "model = AutoModelForImageClassification.from_pretrained(\"ALM-AHME/convnextv2-large-1k-224-finetuned-LungCancer-Classification-LC25000-AH-60-20-20\")"
   ]
  },
  {
   "cell_type": "code",
   "execution_count": 5,
   "metadata": {},
   "outputs": [
    {
     "name": "stdout",
     "output_type": "stream",
     "text": [
      "Predicted label: Malignant\n"
     ]
    }
   ],
   "source": [
    "from transformers import AutoImageProcessor, AutoModelForImageClassification\n",
    "from PIL import Image\n",
    "import torch\n",
    "\n",
    "# Load the processor and model\n",
    "processor = AutoImageProcessor.from_pretrained(\"ALM-AHME/convnextv2-large-1k-224-finetuned-LungCancer-Classification-LC25000-AH-60-20-20\")\n",
    "model = AutoModelForImageClassification.from_pretrained(\"ALM-AHME/convnextv2-large-1k-224-finetuned-LungCancer-Classification-LC25000-AH-60-20-20\")\n",
    "\n",
    "# Load and preprocess the image\n",
    "image = Image.open(\"sample.jpg\")\n",
    "inputs = processor(images=image, return_tensors=\"pt\")\n",
    "\n",
    "# Perform inference\n",
    "with torch.no_grad():\n",
    "    outputs = model(**inputs)\n",
    "\n",
    "# Get the predicted class\n",
    "predicted_class_idx = outputs.logits.argmax(-1).item()\n",
    "\n",
    "# Map the predicted class index to the corresponding label\n",
    "labels = [\"Benign\", \"Malignant\"]\n",
    "predicted_label = labels[predicted_class_idx]\n",
    "\n",
    "print(f\"Predicted label: {predicted_label}\")"
   ]
  },
  {
   "cell_type": "code",
   "execution_count": null,
   "metadata": {},
   "outputs": [],
   "source": [
    "import pydicom\n",
    "import numpy as np\n",
    "import cv2\n",
    "from PIL import Image\n",
    "import torch\n",
    "from torchvision import transforms\n",
    "\n",
    "# Load the YOLO model (assuming you have a YOLOv5 model)\n",
    "model = torch.hub.load('ultralytics/yolov5', 'custom', path='yolov5_model.pt')\n",
    "\n",
    "# Load and preprocess the DICOM image\n",
    "dicom_path = \"image.dcm\"\n",
    "dicom_image = pydicom.dcmread(dicom_path)\n",
    "image_array = dicom_image.pixel_array\n",
    "\n",
    "# Convert the image to a format suitable for YOLO (e.g., a PIL image)\n",
    "image = Image.fromarray(image_array)\n",
    "\n",
    "# Perform inference\n",
    "results = model(image)\n",
    "\n",
    "# Print results\n",
    "results.print()  # Print results to console\n",
    "results.show()   # Display results\n",
    "\n",
    "# Optionally, save the results\n",
    "results.save(save_dir='results')  # Save results to a directory"
   ]
  }
 ],
 "metadata": {
  "kernelspec": {
   "display_name": "Python 3",
   "language": "python",
   "name": "python3"
  },
  "language_info": {
   "codemirror_mode": {
    "name": "ipython",
    "version": 3
   },
   "file_extension": ".py",
   "mimetype": "text/x-python",
   "name": "python",
   "nbconvert_exporter": "python",
   "pygments_lexer": "ipython3",
   "version": "3.11.7"
  }
 },
 "nbformat": 4,
 "nbformat_minor": 2
}
